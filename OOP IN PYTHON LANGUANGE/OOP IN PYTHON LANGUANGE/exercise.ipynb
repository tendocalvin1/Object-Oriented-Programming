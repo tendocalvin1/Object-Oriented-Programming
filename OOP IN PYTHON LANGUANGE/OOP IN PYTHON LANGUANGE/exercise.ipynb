{
 "cells": [
  {
   "cell_type": "code",
   "execution_count": 4,
   "metadata": {},
   "outputs": [
    {
     "ename": "SyntaxError",
     "evalue": "invalid syntax (3809659999.py, line 21)",
     "output_type": "error",
     "traceback": [
      "\u001b[1;36m  Cell \u001b[1;32mIn[4], line 21\u001b[1;36m\u001b[0m\n\u001b[1;33m    else:\u001b[0m\n\u001b[1;37m    ^\u001b[0m\n\u001b[1;31mSyntaxError\u001b[0m\u001b[1;31m:\u001b[0m invalid syntax\n"
     ]
    }
   ],
   "source": [
    "# question three\n",
    "class ShopItem:\n",
    "    def __init__(self,name, price,stock_quantity,warranty_period):\n",
    "        self.name = name\n",
    "        self.price = price\n",
    "        self.stock_quantity = stock_quantity\n",
    "        self.warranty_period = warranty_period\n",
    "        \n",
    "class Electronics(ShopItem):\n",
    "    def __init__(self, name, price, stock_quantity,warranty_period):\n",
    "        super().__init__(name,price,stock_quantity,warranty_period)\n",
    "        self.warranty_period_set = set()\n",
    "        self.warranty_period = 1\n",
    "\n",
    "# Write a method sell_item(quantity) in Electronics class that reduces stock and checks if the item is out of stock.\n",
    "    def sell_item(self,quantity):\n",
    "        if self.stock_quantity >= quantity:\n",
    "            self.stock_quantity -= quantity\n",
    "        print(f\"{self.name} is still available\")\n",
    "        \n",
    "        else:\n",
    "        print(f\"{self.name} is out of stock\")\n",
    "        \n",
    "            \n",
    "        \n"
   ]
  }
 ],
 "metadata": {
  "kernelspec": {
   "display_name": "Python 3",
   "language": "python",
   "name": "python3"
  },
  "language_info": {
   "codemirror_mode": {
    "name": "ipython",
    "version": 3
   },
   "file_extension": ".py",
   "mimetype": "text/x-python",
   "name": "python",
   "nbconvert_exporter": "python",
   "pygments_lexer": "ipython3",
   "version": "3.13.1"
  }
 },
 "nbformat": 4,
 "nbformat_minor": 2
}
