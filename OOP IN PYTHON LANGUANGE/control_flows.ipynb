{
 "cells": [
  {
   "cell_type": "code",
   "execution_count": 1,
   "metadata": {},
   "outputs": [
    {
     "name": "stdout",
     "output_type": "stream",
     "text": [
      "X is greater than 5.\n"
     ]
    }
   ],
   "source": [
    "# conditional statements\n",
    "# if, elif and else\n",
    "# if condition is true then execute the code inside if block\n",
    "# if condition is false then check the elif condition\n",
    "# if elif condition is false then execute the code inside else block\n",
    "# if all conditions are false then nothing will be executed\n",
    "# if-elif-else statement is used to execute different blocks of code based on different conditions\n",
    "# if-elif-else statement is used to handle different scenarios in a program\n",
    "# if-elif-else statement is used to make the program more efficient and easier to understand\n",
    "# if-elif-else statement is used to reduce the complexity of the program\n",
    "# if-elif-else statement is used to improve the readability of the program\n",
    "# if-elif-else statement is used to make the program more robust and reliable\n",
    "# if-elif-else statement is used to handle errors and exceptions in a program\n",
    "\n",
    "x = 10\n",
    "if x > 5:\n",
    "    print(\"X is greater than 5.\")\n",
    "elif x == 5:\n",
    "    print(\"X is equal to 5\")\n",
    "else:\n",
    "    print(\"X is less than 5.\")"
   ]
  },
  {
   "cell_type": "code",
   "execution_count": 2,
   "metadata": {},
   "outputs": [
    {
     "name": "stdout",
     "output_type": "stream",
     "text": [
      "0\n",
      "1\n",
      "2\n",
      "3\n",
      "4\n",
      "5\n",
      "0\n",
      "1\n",
      "2\n",
      "3\n",
      "4\n",
      "5\n",
      "6\n",
      "7\n",
      "8\n",
      "9\n",
      "10\n"
     ]
    }
   ],
   "source": [
    "# LOOPS\n",
    "# for loop:\n",
    "for i in range(6):\n",
    "    print(i)\n",
    "    \n",
    "# while loop\n",
    "count = 0\n",
    "while count <= 10:\n",
    "    print(count)\n",
    "    count +=1"
   ]
  },
  {
   "cell_type": "code",
   "execution_count": 3,
   "metadata": {},
   "outputs": [
    {
     "name": "stdout",
     "output_type": "stream",
     "text": [
      "0\n",
      "1\n",
      "2\n"
     ]
    }
   ],
   "source": [
    "# 3. control statements\n",
    "# break\n",
    "for i in range(5):\n",
    "    if i == 3:\n",
    "        break\n",
    "    print(i)"
   ]
  },
  {
   "cell_type": "code",
   "execution_count": 4,
   "metadata": {},
   "outputs": [
    {
     "name": "stdout",
     "output_type": "stream",
     "text": [
      "0\n",
      "1\n",
      "2\n",
      "3\n",
      "5\n",
      "6\n",
      "7\n"
     ]
    }
   ],
   "source": [
    "# 3. control statements\n",
    "# continue\n",
    "# continue: Skips the rest of the loop iteration and continues with the next iteration.\n",
    "for i in range(8):\n",
    "    if i == 4:\n",
    "        continue\n",
    "    print(i)"
   ]
  },
  {
   "cell_type": "code",
   "execution_count": 5,
   "metadata": {},
   "outputs": [
    {
     "name": "stdout",
     "output_type": "stream",
     "text": [
      "0\n",
      "1\n",
      "2\n",
      "3\n",
      "4\n",
      "5\n"
     ]
    }
   ],
   "source": [
    "# 3. control statements\n",
    "# pass\n",
    "# pass: Does nothing; can be used as a placeholder.\n",
    "for i in range(6):\n",
    "    if i == 4:\n",
    "        pass\n",
    "    print(i)"
   ]
  },
  {
   "cell_type": "code",
   "execution_count": 6,
   "metadata": {},
   "outputs": [
    {
     "name": "stdout",
     "output_type": "stream",
     "text": [
      "You cannot divide by zero\n",
      "This will always execute\n"
     ]
    }
   ],
   "source": [
    "# 4. Exception Handling\n",
    "# try, except, else, and finally.\n",
    "\n",
    "try:\n",
    "    x = 1 / 0\n",
    "except ZeroDivisionError:\n",
    "    print(\"You cannot divide by zero\")\n",
    "else:\n",
    "    print(\"No exceptions occurred\")\n",
    "finally:\n",
    "    print(\"This will always execute\")\n",
    "\n"
   ]
  },
  {
   "cell_type": "code",
   "execution_count": 7,
   "metadata": {},
   "outputs": [
    {
     "name": "stdout",
     "output_type": "stream",
     "text": [
      "Hello, Alice!\n",
      "No name provided\n"
     ]
    }
   ],
   "source": [
    "# 5. Function Definitions\n",
    "# You can control the flow using functions and return statements.\n",
    "\n",
    "def greet(name):\n",
    "    if not name:\n",
    "        return \"No name provided\"\n",
    "    return f\"Hello, {name}!\"\n",
    "\n",
    "print(greet(\"Alice\"))\n",
    "print(greet(\"\"))\n"
   ]
  },
  {
   "cell_type": "code",
   "execution_count": 11,
   "metadata": {},
   "outputs": [
    {
     "name": "stdout",
     "output_type": "stream",
     "text": [
      "The number is positive.\n"
     ]
    }
   ],
   "source": [
    "my_num = 3\n",
    "def positive():\n",
    "    print(\"The number is greater than zero.\")\n",
    "if my_num > 0:\n",
    "    print(\"The number is positive.\")\n",
    "\n",
    "def negative():\n",
    "    print(\"The number is less than zero.\")\n",
    "    \n",
    "if my_num < 0:\n",
    "    print(\"The number is negative.\")\n",
    "    \n",
    "def zero():\n",
    "    print(\"The number is zero.\")\n",
    "    \n",
    "if my_num == 0:\n",
    "    print(\"The number is zero.\")\n",
    "    \n",
    "    "
   ]
  },
  {
   "cell_type": "code",
   "execution_count": 13,
   "metadata": {},
   "outputs": [
    {
     "name": "stdout",
     "output_type": "stream",
     "text": [
      "5\n"
     ]
    }
   ],
   "source": [
    "# largest number.\n",
    "# Write a program to find the largest of three numbers\n",
    "my_list = [0,1,5]\n",
    "print(max(my_list))"
   ]
  },
  {
   "cell_type": "code",
   "execution_count": 14,
   "metadata": {},
   "outputs": [
    {
     "name": "stdout",
     "output_type": "stream",
     "text": [
      "2\n"
     ]
    }
   ],
   "source": [
    "# write a program to find the smallest numbers\n",
    "list = [2,3,4]\n",
    "print(min(list))"
   ]
  },
  {
   "cell_type": "code",
   "execution_count": 31,
   "metadata": {},
   "outputs": [
    {
     "name": "stdout",
     "output_type": "stream",
     "text": [
      "This is a leap year.\n"
     ]
    }
   ],
   "source": [
    "def leap_year(year):\n",
    "    if year % 4 == 0:\n",
    "        if year % 100 == 0:\n",
    "            if year % 400 == 0:\n",
    "                return \"This is a leap year.\"\n",
    "            else:\n",
    "                return \"This is an odd year.\"\n",
    "        else:\n",
    "            return \"This is a leap year.\"\n",
    "    else:\n",
    "        return \"This is an odd year.\"\n",
    "\n",
    "# Get user input and check the year\n",
    "year = int(input(\"Enter a year: \"))\n",
    "print(leap_year(year))\n"
   ]
  },
  {
   "cell_type": "code",
   "execution_count": 42,
   "metadata": {},
   "outputs": [
    {
     "name": "stdout",
     "output_type": "stream",
     "text": [
      "This person is a teenager.\n"
     ]
    }
   ],
   "source": [
    "def categorize_age(age):\n",
    "    if age < 0:\n",
    "        print(\"Invalid age\")\n",
    "    elif age < 13:\n",
    "        print(\"This person is a child.\")\n",
    "    elif age < 20:\n",
    "        print(\"This person is a teenager.\")\n",
    "    elif age < 40:\n",
    "        print(\"This person is an adult.\")\n",
    "    else:\n",
    "        print(\"This person is a senior.\")\n",
    "\n",
    "# Get user input and categorize the age\n",
    "age_input = int(input(\"Enter the person's age: \"))\n",
    "categorize_age(age_input)\n"
   ]
  },
  {
   "cell_type": "code",
   "execution_count": 50,
   "metadata": {},
   "outputs": [
    {
     "name": "stdout",
     "output_type": "stream",
     "text": [
      "5\n"
     ]
    }
   ],
   "source": [
    "# Write a program to count the number of digits in a number using a while loop.\n",
    "def count_elements(lst):\n",
    "    count = len(lst)\n",
    "    return count\n",
    "\n",
    "my_numbers = [1, 2, 3, 4, 5]\n",
    "print(count_elements(my_numbers))\n",
    "\n",
    "#Explanation of the Fixed Code\n",
    "#def count_elements(lst): The function now takes a list as an argument.\n",
    "\n",
    "#count = len(lst): The len() function is used to get the number of elements in the list.\n",
    "\n",
    "#return count: The function returns the count.\n"
   ]
  },
  {
   "cell_type": "code",
   "execution_count": null,
   "metadata": {},
   "outputs": [],
   "source": []
  }
 ],
 "metadata": {
  "kernelspec": {
   "display_name": "Python 3",
   "language": "python",
   "name": "python3"
  },
  "language_info": {
   "codemirror_mode": {
    "name": "ipython",
    "version": 3
   },
   "file_extension": ".py",
   "mimetype": "text/x-python",
   "name": "python",
   "nbconvert_exporter": "python",
   "pygments_lexer": "ipython3",
   "version": "3.13.1"
  }
 },
 "nbformat": 4,
 "nbformat_minor": 2
}
