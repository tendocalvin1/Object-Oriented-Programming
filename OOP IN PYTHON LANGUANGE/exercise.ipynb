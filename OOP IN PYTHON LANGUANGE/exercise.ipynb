{
 "cells": [
  {
   "cell_type": "code",
   "execution_count": 13,
   "metadata": {},
   "outputs": [
    {
     "name": "stdout",
     "output_type": "stream",
     "text": [
      "Laptop is still available\n",
      "Laptop cannot fulfill order. Only 2 left in stock\n",
      "Name: Laptop, Price: 1500, Warranty Period: 1 years, Stock: 2\n"
     ]
    },
    {
     "ename": "",
     "evalue": "",
     "output_type": "error",
     "traceback": [
      "\u001b[1;31mThe Kernel crashed while executing code in the current cell or a previous cell. \n",
      "\u001b[1;31mPlease review the code in the cell(s) to identify a possible cause of the failure. \n",
      "\u001b[1;31mClick <a href='https://aka.ms/vscodeJupyterKernelCrash'>here</a> for more info. \n",
      "\u001b[1;31mView Jupyter <a href='command:jupyter.viewOutput'>log</a> for further details."
     ]
    }
   ],
   "source": [
    "class ShopItem:\n",
    "    def __init__(self, name, price, stock_quantity, warranty_period):\n",
    "        self.name = name\n",
    "        self.price = price\n",
    "        self.stock_quantity = stock_quantity\n",
    "        self.warranty_period = warranty_period\n",
    "\n",
    "class Electronics(ShopItem):\n",
    "    def __init__(self, name, price, stock_quantity, warranty_period):\n",
    "        super().__init__(name, price, stock_quantity, warranty_period)\n",
    "        self.warranty_period = 1\n",
    "\n",
    "    def sell_item(self, quantity):\n",
    "        if self.stock_quantity >= quantity:\n",
    "            self.stock_quantity -= quantity\n",
    "            if self.stock_quantity > 0:\n",
    "                print(f\"{self.name} is still available\")\n",
    "            else:\n",
    "                print(f\"{self.name} is out of stock\")\n",
    "        else:\n",
    "            print(f\"{self.name} cannot fulfill order. Only {self.stock_quantity} left in stock\")\n",
    "\n",
    "    def display_item_info(self):\n",
    "        print(f\"Name: {self.name}, Price: {self.price}, Warranty Period: {self.warranty_period} years, Stock: {self.stock_quantity}\")\n",
    "\n",
    "# Example usage\n",
    "item = Electronics(\"Laptop\", 1500, 5, 1)\n",
    "item.sell_item(3)  # Should print that the item is still available\n",
    "item.sell_item(4)  # Should print that the item cannot fulfill the order\n",
    "item.display_item_info()  # Show updated item info\n"
   ]
  }
 ],
 "metadata": {
  "kernelspec": {
   "display_name": "Python 3",
   "language": "python",
   "name": "python3"
  },
  "language_info": {
   "codemirror_mode": {
    "name": "ipython",
    "version": 3
   },
   "file_extension": ".py",
   "mimetype": "text/x-python",
   "name": "python",
   "nbconvert_exporter": "python",
   "pygments_lexer": "ipython3",
   "version": "3.13.1"
  }
 },
 "nbformat": 4,
 "nbformat_minor": 2
}
