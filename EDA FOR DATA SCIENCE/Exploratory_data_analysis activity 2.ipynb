{
  "cells": [
    {
      "cell_type": "markdown",
      "metadata": {},
      "source": [
        "# **Hands-on lab: Exploratory Data Analysis - Laptops Pricing dataset**\n",
        "\n",
        "\n",
        "In this lab, you will use the skills acquired  to explore the effect of different features on the price of laptops. \n"
      ]
    },
    {
      "cell_type": "markdown",
      "metadata": {},
      "source": [
        "# Objectives\n",
        "\n",
        "After completing this lab you will be able to:\n",
        "\n",
        " - Visualize individual feature patterns\n",
        " - Run descriptive statistical analysis on the dataset\n",
        " - Use groups and pivot tables to find the effect of categorical variables on price\n",
        " - Use Pearson Correlation to measure the interdependence between variables\n"
      ]
    },
    {
      "cell_type": "markdown",
      "metadata": {},
      "source": [
        "# Setup\n"
      ]
    },
    {
      "cell_type": "markdown",
      "metadata": {},
      "source": [
        "For this lab, we will be using the following libraries:\n",
        "\n",
        "* `skillsnetwork` for downloading the data\n",
        "*   [`pandas`](https://pandas.pydata.org/?utm_medium=Exinfluencer&utm_source=Exinfluencer&utm_content=000026UJ&utm_term=10006555&utm_id=NA-SkillsNetwork-Channel-SkillsNetworkCoursesIBMML0187ENSkillsNetwork31430127-2021-01-01) for managing the data.\n",
        "*   [`numpy`](https://numpy.org/?utm_medium=Exinfluencer&utm_source=Exinfluencer&utm_content=000026UJ&utm_term=10006555&utm_id=NA-SkillsNetwork-Channel-SkillsNetworkCoursesIBMML0187ENSkillsNetwork31430127-2021-01-01) for mathematical operations.\n",
        "*   [`scipy`](https://docs.scipy.org/doc/scipy/?utm_medium=Exinfluencer&utm_source=Exinfluencer&utm_content=000026UJ&utm_term=10006555&utm_id=NA-SkillsNetwork-Channel-SkillsNetworkCoursesIBMML0187ENSkillsNetwork31430127-2021-01-01) for statistical operations.\n",
        "*   [`seaborn`](https://seaborn.pydata.org/?utm_medium=Exinfluencer&utm_source=Exinfluencer&utm_content=000026UJ&utm_term=10006555&utm_id=NA-SkillsNetwork-Channel-SkillsNetworkCoursesIBMML0187ENSkillsNetwork31430127-2021-01-01) for visualizing the data.\n",
        "*   [`matplotlib`](https://matplotlib.org/?utm_medium=Exinfluencer&utm_source=Exinfluencer&utm_content=000026UJ&utm_term=10006555&utm_id=NA-SkillsNetwork-Channel-SkillsNetworkCoursesIBMML0187ENSkillsNetwork31430127-2021-01-01) for additional plotting tools.\n"
      ]
    },
    {
      "cell_type": "markdown",
      "metadata": {},
      "source": [
        "# Install Required Libraries\n",
        "\n",
        "You can install the required libraries by simply running the `pip install` command with a `%` sign before it. For this environment, `seaborn` library requires installation.\n"
      ]
    },
    {
      "cell_type": "code",
      "execution_count": 7,
      "metadata": {},
      "outputs": [
        {
          "name": "stdout",
          "output_type": "stream",
          "text": [
            "Requirement already satisfied: pip in c:\\users\\dell\\appdata\\local\\programs\\python\\python312\\lib\\site-packages (24.0)\n",
            "Collecting pip\n",
            "  Downloading pip-24.2-py3-none-any.whl.metadata (3.6 kB)\n",
            "Downloading pip-24.2-py3-none-any.whl (1.8 MB)\n",
            "   ---------------------------------------- 0.0/1.8 MB ? eta -:--:--\n",
            "    --------------------------------------- 0.0/1.8 MB 1.3 MB/s eta 0:00:02\n",
            "    --------------------------------------- 0.0/1.8 MB 1.3 MB/s eta 0:00:02\n",
            "   - -------------------------------------- 0.1/1.8 MB 465.5 kB/s eta 0:00:04\n",
            "   - -------------------------------------- 0.1/1.8 MB 416.7 kB/s eta 0:00:05\n",
            "   -- ------------------------------------- 0.1/1.8 MB 401.6 kB/s eta 0:00:05\n",
            "   -- ------------------------------------- 0.1/1.8 MB 423.5 kB/s eta 0:00:04\n",
            "   --- ------------------------------------ 0.1/1.8 MB 425.3 kB/s eta 0:00:04\n",
            "   --- ------------------------------------ 0.2/1.8 MB 446.5 kB/s eta 0:00:04\n",
            "   --- ------------------------------------ 0.2/1.8 MB 419.0 kB/s eta 0:00:04\n",
            "   ---- ----------------------------------- 0.2/1.8 MB 428.5 kB/s eta 0:00:04\n",
            "   ---- ----------------------------------- 0.2/1.8 MB 416.7 kB/s eta 0:00:04\n",
            "   ---- ----------------------------------- 0.2/1.8 MB 416.7 kB/s eta 0:00:04\n",
            "   ---- ----------------------------------- 0.2/1.8 MB 416.7 kB/s eta 0:00:04\n",
            "   ----- ---------------------------------- 0.2/1.8 MB 358.5 kB/s eta 0:00:05\n",
            "   ----- ---------------------------------- 0.3/1.8 MB 372.1 kB/s eta 0:00:05\n",
            "   ------ --------------------------------- 0.3/1.8 MB 360.9 kB/s eta 0:00:05\n",
            "   ------ --------------------------------- 0.3/1.8 MB 352.7 kB/s eta 0:00:05\n",
            "   ------ --------------------------------- 0.3/1.8 MB 364.0 kB/s eta 0:00:05\n",
            "   ------- -------------------------------- 0.3/1.8 MB 350.0 kB/s eta 0:00:05\n",
            "   ------- -------------------------------- 0.3/1.8 MB 360.3 kB/s eta 0:00:05\n",
            "   ------- -------------------------------- 0.3/1.8 MB 360.3 kB/s eta 0:00:05\n",
            "   ------- -------------------------------- 0.3/1.8 MB 360.3 kB/s eta 0:00:05\n",
            "   -------- ------------------------------- 0.4/1.8 MB 337.0 kB/s eta 0:00:05\n",
            "   -------- ------------------------------- 0.4/1.8 MB 341.0 kB/s eta 0:00:05\n",
            "   --------- ------------------------------ 0.4/1.8 MB 331.7 kB/s eta 0:00:05\n",
            "   --------- ------------------------------ 0.4/1.8 MB 331.7 kB/s eta 0:00:05\n",
            "   --------- ------------------------------ 0.4/1.8 MB 327.5 kB/s eta 0:00:05\n",
            "   --------- ------------------------------ 0.5/1.8 MB 331.3 kB/s eta 0:00:05\n",
            "   ---------- ----------------------------- 0.5/1.8 MB 327.7 kB/s eta 0:00:05\n",
            "   ---------- ----------------------------- 0.5/1.8 MB 331.3 kB/s eta 0:00:05\n",
            "   ---------- ----------------------------- 0.5/1.8 MB 331.3 kB/s eta 0:00:05\n",
            "   ---------- ----------------------------- 0.5/1.8 MB 331.3 kB/s eta 0:00:05\n",
            "   ---------- ----------------------------- 0.5/1.8 MB 331.3 kB/s eta 0:00:05\n",
            "   ---------- ----------------------------- 0.5/1.8 MB 301.9 kB/s eta 0:00:05\n",
            "   ----------- ---------------------------- 0.5/1.8 MB 302.8 kB/s eta 0:00:05\n",
            "   ----------- ---------------------------- 0.5/1.8 MB 303.8 kB/s eta 0:00:05\n",
            "   ----------- ---------------------------- 0.5/1.8 MB 296.3 kB/s eta 0:00:05\n",
            "   ------------ --------------------------- 0.6/1.8 MB 299.9 kB/s eta 0:00:05\n",
            "   ------------ --------------------------- 0.6/1.8 MB 299.9 kB/s eta 0:00:05\n",
            "   ------------ --------------------------- 0.6/1.8 MB 295.3 kB/s eta 0:00:05\n",
            "   ------------ --------------------------- 0.6/1.8 MB 295.3 kB/s eta 0:00:05\n",
            "   ------------ --------------------------- 0.6/1.8 MB 295.3 kB/s eta 0:00:05\n",
            "   ------------ --------------------------- 0.6/1.8 MB 295.3 kB/s eta 0:00:05\n",
            "   ------------- -------------------------- 0.6/1.8 MB 288.5 kB/s eta 0:00:05\n",
            "   ------------- -------------------------- 0.6/1.8 MB 289.1 kB/s eta 0:00:05\n",
            "   -------------- ------------------------- 0.6/1.8 MB 288.1 kB/s eta 0:00:05\n",
            "   -------------- ------------------------- 0.6/1.8 MB 288.1 kB/s eta 0:00:05\n",
            "   -------------- ------------------------- 0.7/1.8 MB 282.7 kB/s eta 0:00:05\n",
            "   -------------- ------------------------- 0.7/1.8 MB 285.8 kB/s eta 0:00:04\n",
            "   --------------- ------------------------ 0.7/1.8 MB 283.3 kB/s eta 0:00:04\n",
            "   --------------- ------------------------ 0.7/1.8 MB 283.3 kB/s eta 0:00:04\n",
            "   --------------- ------------------------ 0.7/1.8 MB 283.3 kB/s eta 0:00:04\n",
            "   --------------- ------------------------ 0.7/1.8 MB 268.4 kB/s eta 0:00:05\n",
            "   ---------------- ----------------------- 0.7/1.8 MB 280.3 kB/s eta 0:00:04\n",
            "   ---------------- ----------------------- 0.7/1.8 MB 280.3 kB/s eta 0:00:04\n",
            "   ---------------- ----------------------- 0.8/1.8 MB 273.3 kB/s eta 0:00:04\n",
            "   ----------------- ---------------------- 0.8/1.8 MB 276.1 kB/s eta 0:00:04\n",
            "   ----------------- ---------------------- 0.8/1.8 MB 275.1 kB/s eta 0:00:04\n",
            "   ----------------- ---------------------- 0.8/1.8 MB 275.1 kB/s eta 0:00:04\n",
            "   ------------------ --------------------- 0.8/1.8 MB 282.3 kB/s eta 0:00:04\n",
            "   ------------------ --------------------- 0.8/1.8 MB 282.3 kB/s eta 0:00:04\n",
            "   ------------------ --------------------- 0.8/1.8 MB 282.3 kB/s eta 0:00:04\n",
            "   ------------------ --------------------- 0.8/1.8 MB 282.3 kB/s eta 0:00:04\n",
            "   ------------------- -------------------- 0.9/1.8 MB 272.5 kB/s eta 0:00:04\n",
            "   ------------------- -------------------- 0.9/1.8 MB 272.5 kB/s eta 0:00:04\n",
            "   ------------------- -------------------- 0.9/1.8 MB 272.5 kB/s eta 0:00:04\n",
            "   ------------------- -------------------- 0.9/1.8 MB 265.8 kB/s eta 0:00:04\n",
            "   ------------------- -------------------- 0.9/1.8 MB 265.8 kB/s eta 0:00:04\n",
            "   ------------------- -------------------- 0.9/1.8 MB 265.8 kB/s eta 0:00:04\n",
            "   ------------------- -------------------- 0.9/1.8 MB 257.9 kB/s eta 0:00:04\n",
            "   ------------------- -------------------- 0.9/1.8 MB 257.9 kB/s eta 0:00:04\n",
            "   ------------------- -------------------- 0.9/1.8 MB 257.9 kB/s eta 0:00:04\n",
            "   -------------------- ------------------- 0.9/1.8 MB 253.6 kB/s eta 0:00:04\n",
            "   -------------------- ------------------- 0.9/1.8 MB 253.8 kB/s eta 0:00:04\n",
            "   -------------------- ------------------- 1.0/1.8 MB 251.2 kB/s eta 0:00:04\n",
            "   -------------------- ------------------- 1.0/1.8 MB 251.2 kB/s eta 0:00:04\n",
            "   --------------------- ------------------ 1.0/1.8 MB 252.4 kB/s eta 0:00:04\n",
            "   --------------------- ------------------ 1.0/1.8 MB 252.4 kB/s eta 0:00:04\n",
            "   --------------------- ------------------ 1.0/1.8 MB 252.4 kB/s eta 0:00:04\n",
            "   ---------------------- ----------------- 1.0/1.8 MB 252.2 kB/s eta 0:00:04\n",
            "   ---------------------- ----------------- 1.0/1.8 MB 252.2 kB/s eta 0:00:04\n",
            "   ---------------------- ----------------- 1.0/1.8 MB 252.4 kB/s eta 0:00:04\n",
            "   ---------------------- ----------------- 1.0/1.8 MB 250.1 kB/s eta 0:00:04\n",
            "   ----------------------- ---------------- 1.1/1.8 MB 252.2 kB/s eta 0:00:04\n",
            "   ----------------------- ---------------- 1.1/1.8 MB 250.9 kB/s eta 0:00:03\n",
            "   ----------------------- ---------------- 1.1/1.8 MB 250.9 kB/s eta 0:00:03\n",
            "   ----------------------- ---------------- 1.1/1.8 MB 250.9 kB/s eta 0:00:03\n",
            "   ----------------------- ---------------- 1.1/1.8 MB 250.9 kB/s eta 0:00:03\n",
            "   ------------------------ --------------- 1.1/1.8 MB 248.6 kB/s eta 0:00:03\n",
            "   ------------------------ --------------- 1.1/1.8 MB 248.6 kB/s eta 0:00:03\n",
            "   ------------------------ --------------- 1.1/1.8 MB 248.6 kB/s eta 0:00:03\n",
            "   ------------------------ --------------- 1.1/1.8 MB 245.5 kB/s eta 0:00:03\n",
            "   ------------------------- -------------- 1.1/1.8 MB 246.0 kB/s eta 0:00:03\n",
            "   ------------------------- -------------- 1.1/1.8 MB 246.0 kB/s eta 0:00:03\n",
            "   ------------------------- -------------- 1.2/1.8 MB 246.5 kB/s eta 0:00:03\n",
            "   ------------------------- -------------- 1.2/1.8 MB 246.5 kB/s eta 0:00:03\n",
            "   ------------------------- -------------- 1.2/1.8 MB 246.5 kB/s eta 0:00:03\n",
            "   -------------------------- ------------- 1.2/1.8 MB 245.0 kB/s eta 0:00:03\n",
            "   -------------------------- ------------- 1.2/1.8 MB 243.9 kB/s eta 0:00:03\n",
            "   --------------------------- ------------ 1.2/1.8 MB 246.5 kB/s eta 0:00:03\n",
            "   --------------------------- ------------ 1.3/1.8 MB 246.7 kB/s eta 0:00:03\n",
            "   --------------------------- ------------ 1.3/1.8 MB 246.7 kB/s eta 0:00:03\n",
            "   --------------------------- ------------ 1.3/1.8 MB 243.5 kB/s eta 0:00:03\n",
            "   ---------------------------- ----------- 1.3/1.8 MB 245.3 kB/s eta 0:00:03\n",
            "   ----------------------------- ---------- 1.3/1.8 MB 246.0 kB/s eta 0:00:03\n",
            "   ----------------------------- ---------- 1.3/1.8 MB 246.0 kB/s eta 0:00:03\n",
            "   ----------------------------- ---------- 1.3/1.8 MB 245.5 kB/s eta 0:00:02\n",
            "   ----------------------------- ---------- 1.3/1.8 MB 245.5 kB/s eta 0:00:02\n",
            "   ----------------------------- ---------- 1.4/1.8 MB 243.9 kB/s eta 0:00:02\n",
            "   ------------------------------ --------- 1.4/1.8 MB 245.5 kB/s eta 0:00:02\n",
            "   ------------------------------ --------- 1.4/1.8 MB 245.5 kB/s eta 0:00:02\n",
            "   ------------------------------ --------- 1.4/1.8 MB 245.5 kB/s eta 0:00:02\n",
            "   ------------------------------ --------- 1.4/1.8 MB 241.9 kB/s eta 0:00:02\n",
            "   ------------------------------ --------- 1.4/1.8 MB 241.9 kB/s eta 0:00:02\n",
            "   ------------------------------ --------- 1.4/1.8 MB 240.9 kB/s eta 0:00:02\n",
            "   ------------------------------- -------- 1.4/1.8 MB 243.1 kB/s eta 0:00:02\n",
            "   ------------------------------- -------- 1.4/1.8 MB 243.1 kB/s eta 0:00:02\n",
            "   ------------------------------- -------- 1.4/1.8 MB 240.4 kB/s eta 0:00:02\n",
            "   ------------------------------- -------- 1.4/1.8 MB 240.4 kB/s eta 0:00:02\n",
            "   -------------------------------- ------- 1.5/1.8 MB 238.8 kB/s eta 0:00:02\n",
            "   -------------------------------- ------- 1.5/1.8 MB 238.8 kB/s eta 0:00:02\n",
            "   -------------------------------- ------- 1.5/1.8 MB 238.0 kB/s eta 0:00:02\n",
            "   -------------------------------- ------- 1.5/1.8 MB 238.0 kB/s eta 0:00:02\n",
            "   -------------------------------- ------- 1.5/1.8 MB 238.0 kB/s eta 0:00:02\n",
            "   -------------------------------- ------- 1.5/1.8 MB 235.9 kB/s eta 0:00:02\n",
            "   -------------------------------- ------- 1.5/1.8 MB 235.9 kB/s eta 0:00:02\n",
            "   --------------------------------- ------ 1.5/1.8 MB 235.7 kB/s eta 0:00:02\n",
            "   --------------------------------- ------ 1.5/1.8 MB 235.7 kB/s eta 0:00:02\n",
            "   --------------------------------- ------ 1.5/1.8 MB 234.4 kB/s eta 0:00:02\n",
            "   --------------------------------- ------ 1.5/1.8 MB 234.7 kB/s eta 0:00:02\n",
            "   --------------------------------- ------ 1.5/1.8 MB 234.7 kB/s eta 0:00:02\n",
            "   ---------------------------------- ----- 1.6/1.8 MB 236.0 kB/s eta 0:00:02\n",
            "   ---------------------------------- ----- 1.6/1.8 MB 237.5 kB/s eta 0:00:01\n",
            "   ---------------------------------- ----- 1.6/1.8 MB 237.5 kB/s eta 0:00:01\n",
            "   ---------------------------------- ----- 1.6/1.8 MB 237.5 kB/s eta 0:00:01\n",
            "   ---------------------------------- ----- 1.6/1.8 MB 237.5 kB/s eta 0:00:01\n",
            "   ----------------------------------- ---- 1.6/1.8 MB 236.4 kB/s eta 0:00:01\n",
            "   ----------------------------------- ---- 1.6/1.8 MB 236.4 kB/s eta 0:00:01\n",
            "   ----------------------------------- ---- 1.6/1.8 MB 236.4 kB/s eta 0:00:01\n",
            "   ------------------------------------ --- 1.6/1.8 MB 236.1 kB/s eta 0:00:01\n",
            "   ------------------------------------ --- 1.7/1.8 MB 236.4 kB/s eta 0:00:01\n",
            "   ------------------------------------ --- 1.7/1.8 MB 236.4 kB/s eta 0:00:01\n",
            "   ------------------------------------- -- 1.7/1.8 MB 235.8 kB/s eta 0:00:01\n",
            "   ------------------------------------- -- 1.7/1.8 MB 235.8 kB/s eta 0:00:01\n",
            "   ------------------------------------- -- 1.7/1.8 MB 235.8 kB/s eta 0:00:01\n",
            "   ------------------------------------- -- 1.7/1.8 MB 235.8 kB/s eta 0:00:01\n",
            "   ------------------------------------- -- 1.7/1.8 MB 233.9 kB/s eta 0:00:01\n",
            "   -------------------------------------- - 1.7/1.8 MB 235.2 kB/s eta 0:00:01\n",
            "   -------------------------------------- - 1.7/1.8 MB 235.2 kB/s eta 0:00:01\n",
            "   -------------------------------------- - 1.7/1.8 MB 235.2 kB/s eta 0:00:01\n",
            "   -------------------------------------- - 1.8/1.8 MB 232.6 kB/s eta 0:00:01\n",
            "   -------------------------------------- - 1.8/1.8 MB 232.6 kB/s eta 0:00:01\n",
            "   -------------------------------------- - 1.8/1.8 MB 232.6 kB/s eta 0:00:01\n",
            "   -------------------------------------- - 1.8/1.8 MB 232.6 kB/s eta 0:00:01\n",
            "   -------------------------------------- - 1.8/1.8 MB 228.2 kB/s eta 0:00:01\n",
            "   -------------------------------------- - 1.8/1.8 MB 228.2 kB/s eta 0:00:01\n",
            "   ---------------------------------------  1.8/1.8 MB 228.1 kB/s eta 0:00:01\n",
            "   ---------------------------------------  1.8/1.8 MB 228.1 kB/s eta 0:00:01\n",
            "   ---------------------------------------  1.8/1.8 MB 226.7 kB/s eta 0:00:01\n",
            "   ---------------------------------------  1.8/1.8 MB 227.5 kB/s eta 0:00:01\n",
            "   ---------------------------------------- 1.8/1.8 MB 226.5 kB/s eta 0:00:00\n",
            "Installing collected packages: pip\n",
            "  Attempting uninstall: pip\n",
            "    Found existing installation: pip 24.0\n",
            "    Uninstalling pip-24.0:\n",
            "      Successfully uninstalled pip-24.0\n",
            "Successfully installed pip-24.2\n"
          ]
        }
      ],
      "source": [
        "!python -m pip install --upgrade pip\n"
      ]
    },
    {
      "cell_type": "markdown",
      "metadata": {},
      "source": [
        "### Importing Required Libraries\n"
      ]
    },
    {
      "cell_type": "code",
      "execution_count": 13,
      "metadata": {},
      "outputs": [
        {
          "name": "stdout",
          "output_type": "stream",
          "text": [
            "Requirement already satisfied: seaborn in c:\\users\\dell\\appdata\\local\\programs\\python\\python312\\lib\\site-packages (0.13.2)\n",
            "Requirement already satisfied: numpy!=1.24.0,>=1.20 in c:\\users\\dell\\appdata\\local\\programs\\python\\python312\\lib\\site-packages (from seaborn) (2.0.0)\n",
            "Requirement already satisfied: pandas>=1.2 in c:\\users\\dell\\appdata\\local\\programs\\python\\python312\\lib\\site-packages (from seaborn) (2.2.2)\n",
            "Requirement already satisfied: matplotlib!=3.6.1,>=3.4 in c:\\users\\dell\\appdata\\local\\programs\\python\\python312\\lib\\site-packages (from seaborn) (3.9.2)\n",
            "Requirement already satisfied: contourpy>=1.0.1 in c:\\users\\dell\\appdata\\local\\programs\\python\\python312\\lib\\site-packages (from matplotlib!=3.6.1,>=3.4->seaborn) (1.3.0)\n",
            "Requirement already satisfied: cycler>=0.10 in c:\\users\\dell\\appdata\\local\\programs\\python\\python312\\lib\\site-packages (from matplotlib!=3.6.1,>=3.4->seaborn) (0.12.1)\n",
            "Requirement already satisfied: fonttools>=4.22.0 in c:\\users\\dell\\appdata\\local\\programs\\python\\python312\\lib\\site-packages (from matplotlib!=3.6.1,>=3.4->seaborn) (4.54.1)\n",
            "Requirement already satisfied: kiwisolver>=1.3.1 in c:\\users\\dell\\appdata\\local\\programs\\python\\python312\\lib\\site-packages (from matplotlib!=3.6.1,>=3.4->seaborn) (1.4.7)\n",
            "Requirement already satisfied: packaging>=20.0 in c:\\users\\dell\\appdata\\roaming\\python\\python312\\site-packages (from matplotlib!=3.6.1,>=3.4->seaborn) (24.1)\n",
            "Requirement already satisfied: pillow>=8 in c:\\users\\dell\\appdata\\local\\programs\\python\\python312\\lib\\site-packages (from matplotlib!=3.6.1,>=3.4->seaborn) (10.4.0)\n",
            "Requirement already satisfied: pyparsing>=2.3.1 in c:\\users\\dell\\appdata\\local\\programs\\python\\python312\\lib\\site-packages (from matplotlib!=3.6.1,>=3.4->seaborn) (3.1.4)\n",
            "Requirement already satisfied: python-dateutil>=2.7 in c:\\users\\dell\\appdata\\roaming\\python\\python312\\site-packages (from matplotlib!=3.6.1,>=3.4->seaborn) (2.9.0.post0)\n",
            "Requirement already satisfied: pytz>=2020.1 in c:\\users\\dell\\appdata\\local\\programs\\python\\python312\\lib\\site-packages (from pandas>=1.2->seaborn) (2024.1)\n",
            "Requirement already satisfied: tzdata>=2022.7 in c:\\users\\dell\\appdata\\local\\programs\\python\\python312\\lib\\site-packages (from pandas>=1.2->seaborn) (2024.1)\n",
            "Requirement already satisfied: six>=1.5 in c:\\users\\dell\\appdata\\roaming\\python\\python312\\site-packages (from python-dateutil>=2.7->matplotlib!=3.6.1,>=3.4->seaborn) (1.16.0)\n",
            "Note: you may need to restart the kernel to use updated packages.\n"
          ]
        }
      ],
      "source": [
        "pip install seaborn"
      ]
    },
    {
      "cell_type": "code",
      "execution_count": 14,
      "metadata": {},
      "outputs": [],
      "source": [
        "import numpy as np\n",
        "import pandas as pd\n",
        "import matplotlib.pyplot as plt\n",
        "import seaborn as sns\n",
        "from scipy import stats\n",
        "%matplotlib inline"
      ]
    },
    {
      "cell_type": "markdown",
      "metadata": {},
      "source": [
        "# Import the dataset\n",
        "\n",
        "You should download the modified version of the data set from the last module. \n",
        "Run the following code block to download the CSV file to this environment.\n",
        "\n",
        "\n",
        "The functions below will download the dataset into your browser:\n"
      ]
    },
    {
      "cell_type": "code",
      "execution_count": 19,
      "metadata": {},
      "outputs": [],
      "source": [
        "filepath=\"https://cf-courses-data.s3.us.cloud-object-storage.appdomain.cloud/IBMDeveloperSkillsNetwork-DA0101EN-Coursera/laptop_pricing_dataset_mod2.csv\""
      ]
    },
    {
      "cell_type": "code",
      "execution_count": 20,
      "metadata": {},
      "outputs": [],
      "source": [
        "df = pd.read_csv(filepath, header=0)"
      ]
    },
    {
      "cell_type": "code",
      "execution_count": null,
      "metadata": {},
      "outputs": [],
      "source": [
        "#filepath=\"https://cf-courses-data.s3.us.cloud-object-storage.appdomain.cloud/IBMDeveloperSkillsNetwork-DA0101EN-Coursera/laptop_pricing_dataset_mod2.csv\"\n",
        "#df = pd.read_csv(filepath, header=None)"
      ]
    },
    {
      "cell_type": "markdown",
      "metadata": {},
      "source": [
        "Print the first 5 entries of the dataset to confirm loading.\n"
      ]
    },
    {
      "cell_type": "code",
      "execution_count": 21,
      "metadata": {},
      "outputs": [
        {
          "data": {
            "text/html": [
              "<div>\n",
              "<style scoped>\n",
              "    .dataframe tbody tr th:only-of-type {\n",
              "        vertical-align: middle;\n",
              "    }\n",
              "\n",
              "    .dataframe tbody tr th {\n",
              "        vertical-align: top;\n",
              "    }\n",
              "\n",
              "    .dataframe thead th {\n",
              "        text-align: right;\n",
              "    }\n",
              "</style>\n",
              "<table border=\"1\" class=\"dataframe\">\n",
              "  <thead>\n",
              "    <tr style=\"text-align: right;\">\n",
              "      <th></th>\n",
              "      <th>Unnamed: 0.1</th>\n",
              "      <th>Unnamed: 0</th>\n",
              "      <th>Manufacturer</th>\n",
              "      <th>Category</th>\n",
              "      <th>GPU</th>\n",
              "      <th>OS</th>\n",
              "      <th>CPU_core</th>\n",
              "      <th>Screen_Size_inch</th>\n",
              "      <th>CPU_frequency</th>\n",
              "      <th>RAM_GB</th>\n",
              "      <th>Storage_GB_SSD</th>\n",
              "      <th>Weight_pounds</th>\n",
              "      <th>Price</th>\n",
              "      <th>Price-binned</th>\n",
              "      <th>Screen-Full_HD</th>\n",
              "      <th>Screen-IPS_panel</th>\n",
              "    </tr>\n",
              "  </thead>\n",
              "  <tbody>\n",
              "    <tr>\n",
              "      <th>0</th>\n",
              "      <td>0</td>\n",
              "      <td>0</td>\n",
              "      <td>Acer</td>\n",
              "      <td>4</td>\n",
              "      <td>2</td>\n",
              "      <td>1</td>\n",
              "      <td>5</td>\n",
              "      <td>14.0</td>\n",
              "      <td>0.551724</td>\n",
              "      <td>8</td>\n",
              "      <td>256</td>\n",
              "      <td>3.52800</td>\n",
              "      <td>978</td>\n",
              "      <td>Low</td>\n",
              "      <td>0</td>\n",
              "      <td>1</td>\n",
              "    </tr>\n",
              "    <tr>\n",
              "      <th>1</th>\n",
              "      <td>1</td>\n",
              "      <td>1</td>\n",
              "      <td>Dell</td>\n",
              "      <td>3</td>\n",
              "      <td>1</td>\n",
              "      <td>1</td>\n",
              "      <td>3</td>\n",
              "      <td>15.6</td>\n",
              "      <td>0.689655</td>\n",
              "      <td>4</td>\n",
              "      <td>256</td>\n",
              "      <td>4.85100</td>\n",
              "      <td>634</td>\n",
              "      <td>Low</td>\n",
              "      <td>1</td>\n",
              "      <td>0</td>\n",
              "    </tr>\n",
              "    <tr>\n",
              "      <th>2</th>\n",
              "      <td>2</td>\n",
              "      <td>2</td>\n",
              "      <td>Dell</td>\n",
              "      <td>3</td>\n",
              "      <td>1</td>\n",
              "      <td>1</td>\n",
              "      <td>7</td>\n",
              "      <td>15.6</td>\n",
              "      <td>0.931034</td>\n",
              "      <td>8</td>\n",
              "      <td>256</td>\n",
              "      <td>4.85100</td>\n",
              "      <td>946</td>\n",
              "      <td>Low</td>\n",
              "      <td>1</td>\n",
              "      <td>0</td>\n",
              "    </tr>\n",
              "    <tr>\n",
              "      <th>3</th>\n",
              "      <td>3</td>\n",
              "      <td>3</td>\n",
              "      <td>Dell</td>\n",
              "      <td>4</td>\n",
              "      <td>2</td>\n",
              "      <td>1</td>\n",
              "      <td>5</td>\n",
              "      <td>13.3</td>\n",
              "      <td>0.551724</td>\n",
              "      <td>8</td>\n",
              "      <td>128</td>\n",
              "      <td>2.69010</td>\n",
              "      <td>1244</td>\n",
              "      <td>Low</td>\n",
              "      <td>0</td>\n",
              "      <td>1</td>\n",
              "    </tr>\n",
              "    <tr>\n",
              "      <th>4</th>\n",
              "      <td>4</td>\n",
              "      <td>4</td>\n",
              "      <td>HP</td>\n",
              "      <td>4</td>\n",
              "      <td>2</td>\n",
              "      <td>1</td>\n",
              "      <td>7</td>\n",
              "      <td>15.6</td>\n",
              "      <td>0.620690</td>\n",
              "      <td>8</td>\n",
              "      <td>256</td>\n",
              "      <td>4.21155</td>\n",
              "      <td>837</td>\n",
              "      <td>Low</td>\n",
              "      <td>1</td>\n",
              "      <td>0</td>\n",
              "    </tr>\n",
              "  </tbody>\n",
              "</table>\n",
              "</div>"
            ],
            "text/plain": [
              "   Unnamed: 0.1  Unnamed: 0 Manufacturer  Category  GPU  OS  CPU_core  \\\n",
              "0             0           0         Acer         4    2   1         5   \n",
              "1             1           1         Dell         3    1   1         3   \n",
              "2             2           2         Dell         3    1   1         7   \n",
              "3             3           3         Dell         4    2   1         5   \n",
              "4             4           4           HP         4    2   1         7   \n",
              "\n",
              "   Screen_Size_inch  CPU_frequency  RAM_GB  Storage_GB_SSD  Weight_pounds  \\\n",
              "0              14.0       0.551724       8             256        3.52800   \n",
              "1              15.6       0.689655       4             256        4.85100   \n",
              "2              15.6       0.931034       8             256        4.85100   \n",
              "3              13.3       0.551724       8             128        2.69010   \n",
              "4              15.6       0.620690       8             256        4.21155   \n",
              "\n",
              "   Price Price-binned  Screen-Full_HD  Screen-IPS_panel  \n",
              "0    978          Low               0                 1  \n",
              "1    634          Low               1                 0  \n",
              "2    946          Low               1                 0  \n",
              "3   1244          Low               0                 1  \n",
              "4    837          Low               1                 0  "
            ]
          },
          "execution_count": 21,
          "metadata": {},
          "output_type": "execute_result"
        }
      ],
      "source": [
        "df.head(5)"
      ]
    },
    {
      "cell_type": "markdown",
      "metadata": {},
      "source": [
        "# Task 1 - Visualize individual feature patterns\n",
        "\n",
        "### Continuous valued features\n",
        "Generate regression plots for each of the parameters \"CPU_frequency\", \"Screen_Size_inch\" and \"Weight_pounds\" against \"Price\". Also, print the value of correlation of each feature with \"Price\".\n"
      ]
    },
    {
      "cell_type": "code",
      "execution_count": null,
      "metadata": {},
      "outputs": [],
      "source": [
        "# Write your code below and press Shift+Enter to execute\n",
        "# CPU_frequency plot\n"
      ]
    },
    {
      "cell_type": "code",
      "execution_count": null,
      "metadata": {},
      "outputs": [],
      "source": [
        "# Write your code below and press Shift+Enter to execute\n",
        "# Screen_Size_inch plot\n"
      ]
    },
    {
      "cell_type": "code",
      "execution_count": null,
      "metadata": {},
      "outputs": [],
      "source": [
        "# Write your code below and press Shift+Enter to execute\n",
        "# Weight_pounds plot\n"
      ]
    },
    {
      "cell_type": "code",
      "execution_count": null,
      "metadata": {},
      "outputs": [],
      "source": [
        "# Correlation values of the three attributes with Price\n"
      ]
    },
    {
      "cell_type": "markdown",
      "metadata": {},
      "source": [
        "Interpretation: \"CPU_frequency\" has a 36% positive correlation with the price of the laptops. The other two parameters have weak correlation with price.\n"
      ]
    },
    {
      "cell_type": "markdown",
      "metadata": {},
      "source": [
        "### Categorical features\n",
        "Generate Box plots for the different feature that hold categorical values. These features would be \"Category\", \"GPU\", \"OS\", \"CPU_core\", \"RAM_GB\", \"Storage_GB_SSD\"\n"
      ]
    },
    {
      "cell_type": "code",
      "execution_count": null,
      "metadata": {},
      "outputs": [],
      "source": [
        "# Write your code below and press Shift+Enter to execute\n",
        "# Category Box plot\n"
      ]
    },
    {
      "cell_type": "code",
      "execution_count": null,
      "metadata": {},
      "outputs": [],
      "source": [
        "# Write your code below and press Shift+Enter to execute\n",
        "# GPU Box plot\n"
      ]
    },
    {
      "cell_type": "code",
      "execution_count": null,
      "metadata": {},
      "outputs": [],
      "source": [
        "# Write your code below and press Shift+Enter to execute\n",
        "# OS Box plot"
      ]
    },
    {
      "cell_type": "code",
      "execution_count": null,
      "metadata": {},
      "outputs": [],
      "source": [
        "# Write your code below and press Shift+Enter to execute\n",
        "# CPU_core Box plot"
      ]
    },
    {
      "cell_type": "code",
      "execution_count": null,
      "metadata": {},
      "outputs": [],
      "source": [
        "# Write your code below and press Shift+Enter to execute\n",
        "# RAM_GB Box plot"
      ]
    },
    {
      "cell_type": "code",
      "execution_count": null,
      "metadata": {},
      "outputs": [],
      "source": [
        "# Write your code below and press Shift+Enter to execute\n",
        "# Storage_GB_SSD Box plot"
      ]
    },
    {
      "cell_type": "markdown",
      "metadata": {},
      "source": [
        "# Task 2 - Descriptive Statistical Analysis\n"
      ]
    },
    {
      "cell_type": "markdown",
      "metadata": {},
      "source": [
        "Generate the statistical description of all the features being used in the data set. Include \"object\" data types as well.\n"
      ]
    },
    {
      "cell_type": "code",
      "execution_count": null,
      "metadata": {},
      "outputs": [],
      "source": [
        "# Write your code below and press Shift+Enter to execute"
      ]
    },
    {
      "cell_type": "markdown",
      "metadata": {},
      "source": [
        "# Task 3 - GroupBy and Pivot Tables\n",
        "\n",
        "Group the parameters \"GPU\", \"CPU_core\" and \"Price\" to make a pivot table and visualize this connection using the pcolor plot.\n"
      ]
    },
    {
      "cell_type": "code",
      "execution_count": null,
      "metadata": {},
      "outputs": [],
      "source": [
        "# Write your code below and press Shift+Enter to execute\n",
        "# Create the group"
      ]
    },
    {
      "cell_type": "code",
      "execution_count": null,
      "metadata": {},
      "outputs": [],
      "source": [
        "# Write your code below and press Shift+Enter to execute\n",
        "# Create the Pivot table"
      ]
    },
    {
      "cell_type": "code",
      "execution_count": null,
      "metadata": {},
      "outputs": [],
      "source": [
        "# Write your code below and press Shift+Enter to execute\n",
        "# Create the Plot"
      ]
    },
    {
      "cell_type": "markdown",
      "metadata": {},
      "source": [
        "# Task 4 - Pearson Correlation and p-values\n",
        "\n",
        "Use the `scipy.stats.pearsonr()` function to evaluate the Pearson Coefficient and the p-values for each parameter tested above. This will help you determine the parameters most likely to have a strong effect on the price of the laptops.\n"
      ]
    },
    {
      "cell_type": "code",
      "execution_count": null,
      "metadata": {},
      "outputs": [],
      "source": [
        "# Write your code below and press Shift+Enter to execute"
      ]
    },
    {
      "cell_type": "markdown",
      "metadata": {},
      "source": [
        "# END\n",
        "\n",
        "## Thank you for listening\n"
      ]
    },
    {
      "cell_type": "markdown",
      "metadata": {},
      "source": [
        "<!--## Change Log\n"
      ]
    },
    {
      "cell_type": "markdown",
      "metadata": {},
      "source": [
        "<!--|Date (YYYY-MM-DD)|Version|Changed By|Change Description|\n",
        "|-|-|-|-|\n",
        "|2023-09-15|0.1|Abhishek Gagneja|Initial Version Created|\n",
        "|2023-09-18|0.2|Vicky Kuo|Reviewed and Revised|--!>\n"
      ]
    }
  ],
  "metadata": {
    "kernelspec": {
      "display_name": "Python 3",
      "language": "python",
      "name": "python3"
    },
    "language_info": {
      "codemirror_mode": {
        "name": "ipython",
        "version": 3
      },
      "file_extension": ".py",
      "mimetype": "text/x-python",
      "name": "python",
      "nbconvert_exporter": "python",
      "pygments_lexer": "ipython3",
      "version": "3.12.4"
    },
    "prev_pub_hash": "994068b9b31eebd811cd3cd4ab9c182933da07fdbb4b8c586d6f7feb600d87e8"
  },
  "nbformat": 4,
  "nbformat_minor": 4
}
